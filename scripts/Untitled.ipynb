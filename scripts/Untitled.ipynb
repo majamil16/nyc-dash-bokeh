{
 "cells": [
  {
   "cell_type": "code",
   "execution_count": 1,
   "metadata": {},
   "outputs": [],
   "source": [
    "import pandas as pd\n",
    "import numpy as np"
   ]
  },
  {
   "cell_type": "code",
   "execution_count": 2,
   "metadata": {},
   "outputs": [],
   "source": [
    "#df = pd.read_csv(\"../data/small_nyc.csv\", header=None,  usecols=[1, 2, 8, 19], names=['open', 'close', 'zip', 'status'])\n",
    "df = pd.read_csv(\"../data/2020_closed_nyc_311.csv\", header=None, names=['open', 'close', 'zip', 'status'])\n",
    "\n"
   ]
  },
  {
   "cell_type": "code",
   "execution_count": 3,
   "metadata": {},
   "outputs": [
    {
     "data": {
      "text/html": [
       "<div>\n",
       "<style scoped>\n",
       "    .dataframe tbody tr th:only-of-type {\n",
       "        vertical-align: middle;\n",
       "    }\n",
       "\n",
       "    .dataframe tbody tr th {\n",
       "        vertical-align: top;\n",
       "    }\n",
       "\n",
       "    .dataframe thead th {\n",
       "        text-align: right;\n",
       "    }\n",
       "</style>\n",
       "<table border=\"1\" class=\"dataframe\">\n",
       "  <thead>\n",
       "    <tr style=\"text-align: right;\">\n",
       "      <th></th>\n",
       "      <th>open</th>\n",
       "      <th>close</th>\n",
       "      <th>zip</th>\n",
       "      <th>status</th>\n",
       "    </tr>\n",
       "  </thead>\n",
       "  <tbody>\n",
       "    <tr>\n",
       "      <th>0</th>\n",
       "      <td>07/20/2020 10:51:12 AM</td>\n",
       "      <td>09/05/2020 12:32:48 PM</td>\n",
       "      <td>11234.0</td>\n",
       "      <td>Closed</td>\n",
       "    </tr>\n",
       "    <tr>\n",
       "      <th>1</th>\n",
       "      <td>07/21/2020 02:13:58 PM</td>\n",
       "      <td>09/05/2020 01:37:31 PM</td>\n",
       "      <td>11210.0</td>\n",
       "      <td>Closed</td>\n",
       "    </tr>\n",
       "    <tr>\n",
       "      <th>2</th>\n",
       "      <td>07/27/2020 12:56:33 PM</td>\n",
       "      <td>09/05/2020 08:51:14 AM</td>\n",
       "      <td>11354.0</td>\n",
       "      <td>Closed</td>\n",
       "    </tr>\n",
       "    <tr>\n",
       "      <th>3</th>\n",
       "      <td>06/23/2020 11:55:33 AM</td>\n",
       "      <td>08/04/2020 04:45:20 PM</td>\n",
       "      <td>NaN</td>\n",
       "      <td>Closed</td>\n",
       "    </tr>\n",
       "    <tr>\n",
       "      <th>4</th>\n",
       "      <td>06/03/2020 08:33:35 AM</td>\n",
       "      <td>07/13/2020 03:09:14 PM</td>\n",
       "      <td>NaN</td>\n",
       "      <td>Closed</td>\n",
       "    </tr>\n",
       "    <tr>\n",
       "      <th>...</th>\n",
       "      <td>...</td>\n",
       "      <td>...</td>\n",
       "      <td>...</td>\n",
       "      <td>...</td>\n",
       "    </tr>\n",
       "    <tr>\n",
       "      <th>1705660</th>\n",
       "      <td>07/10/2020 10:34:45 AM</td>\n",
       "      <td>08/26/2020 12:00:00 AM</td>\n",
       "      <td>10075.0</td>\n",
       "      <td>Closed</td>\n",
       "    </tr>\n",
       "    <tr>\n",
       "      <th>1705661</th>\n",
       "      <td>08/05/2020 02:55:52 PM</td>\n",
       "      <td>08/13/2020 06:35:49 PM</td>\n",
       "      <td>11221.0</td>\n",
       "      <td>Closed</td>\n",
       "    </tr>\n",
       "    <tr>\n",
       "      <th>1705662</th>\n",
       "      <td>07/11/2020 10:53:00 AM</td>\n",
       "      <td>08/21/2020 12:00:00 PM</td>\n",
       "      <td>11421.0</td>\n",
       "      <td>Closed</td>\n",
       "    </tr>\n",
       "    <tr>\n",
       "      <th>1705663</th>\n",
       "      <td>07/16/2020 12:00:23 PM</td>\n",
       "      <td>08/30/2020 05:59:47 PM</td>\n",
       "      <td>11691.0</td>\n",
       "      <td>Closed</td>\n",
       "    </tr>\n",
       "    <tr>\n",
       "      <th>1705664</th>\n",
       "      <td>07/16/2020 04:55:32 PM</td>\n",
       "      <td>09/05/2020 01:28:38 PM</td>\n",
       "      <td>11226.0</td>\n",
       "      <td>Closed</td>\n",
       "    </tr>\n",
       "  </tbody>\n",
       "</table>\n",
       "<p>1705665 rows × 4 columns</p>\n",
       "</div>"
      ],
      "text/plain": [
       "                           open                   close      zip  status\n",
       "0        07/20/2020 10:51:12 AM  09/05/2020 12:32:48 PM  11234.0  Closed\n",
       "1        07/21/2020 02:13:58 PM  09/05/2020 01:37:31 PM  11210.0  Closed\n",
       "2        07/27/2020 12:56:33 PM  09/05/2020 08:51:14 AM  11354.0  Closed\n",
       "3        06/23/2020 11:55:33 AM  08/04/2020 04:45:20 PM      NaN  Closed\n",
       "4        06/03/2020 08:33:35 AM  07/13/2020 03:09:14 PM      NaN  Closed\n",
       "...                         ...                     ...      ...     ...\n",
       "1705660  07/10/2020 10:34:45 AM  08/26/2020 12:00:00 AM  10075.0  Closed\n",
       "1705661  08/05/2020 02:55:52 PM  08/13/2020 06:35:49 PM  11221.0  Closed\n",
       "1705662  07/11/2020 10:53:00 AM  08/21/2020 12:00:00 PM  11421.0  Closed\n",
       "1705663  07/16/2020 12:00:23 PM  08/30/2020 05:59:47 PM  11691.0  Closed\n",
       "1705664  07/16/2020 04:55:32 PM  09/05/2020 01:28:38 PM  11226.0  Closed\n",
       "\n",
       "[1705665 rows x 4 columns]"
      ]
     },
     "execution_count": 3,
     "metadata": {},
     "output_type": "execute_result"
    }
   ],
   "source": [
    "\n",
    "df"
   ]
  },
  {
   "cell_type": "code",
   "execution_count": 4,
   "metadata": {},
   "outputs": [
    {
     "data": {
      "text/plain": [
       "open      False\n",
       "close     False\n",
       "zip        True\n",
       "status    False\n",
       "dtype: bool"
      ]
     },
     "execution_count": 4,
     "metadata": {},
     "output_type": "execute_result"
    }
   ],
   "source": [
    "df.isnull().any()"
   ]
  },
  {
   "cell_type": "code",
   "execution_count": 5,
   "metadata": {},
   "outputs": [],
   "source": [
    "#df = df[df['status'] == 'Closed'] # restrict to only the closed columns\n",
    "# will also need to do df['open'] > pd.Timestamp(2020,1,1)\n"
   ]
  },
  {
   "cell_type": "code",
   "execution_count": 6,
   "metadata": {},
   "outputs": [
    {
     "data": {
      "text/plain": [
       "open      False\n",
       "close     False\n",
       "zip        True\n",
       "status    False\n",
       "dtype: bool"
      ]
     },
     "execution_count": 6,
     "metadata": {},
     "output_type": "execute_result"
    }
   ],
   "source": [
    "\n",
    "df.isnull().any()\n",
    "#df"
   ]
  },
  {
   "cell_type": "code",
   "execution_count": 22,
   "metadata": {},
   "outputs": [
    {
     "data": {
      "text/html": [
       "<div>\n",
       "<style scoped>\n",
       "    .dataframe tbody tr th:only-of-type {\n",
       "        vertical-align: middle;\n",
       "    }\n",
       "\n",
       "    .dataframe tbody tr th {\n",
       "        vertical-align: top;\n",
       "    }\n",
       "\n",
       "    .dataframe thead th {\n",
       "        text-align: right;\n",
       "    }\n",
       "</style>\n",
       "<table border=\"1\" class=\"dataframe\">\n",
       "  <thead>\n",
       "    <tr style=\"text-align: right;\">\n",
       "      <th></th>\n",
       "      <th>open</th>\n",
       "      <th>close</th>\n",
       "      <th>zip</th>\n",
       "      <th>status</th>\n",
       "    </tr>\n",
       "  </thead>\n",
       "  <tbody>\n",
       "    <tr>\n",
       "      <th>0</th>\n",
       "      <td>07/20/2020 10:51:12 AM</td>\n",
       "      <td>09/05/2020 12:32:48 PM</td>\n",
       "      <td>11234.0</td>\n",
       "      <td>Closed</td>\n",
       "    </tr>\n",
       "    <tr>\n",
       "      <th>2</th>\n",
       "      <td>07/21/2020 02:13:58 PM</td>\n",
       "      <td>09/05/2020 01:37:31 PM</td>\n",
       "      <td>11210.0</td>\n",
       "      <td>Closed</td>\n",
       "    </tr>\n",
       "    <tr>\n",
       "      <th>3</th>\n",
       "      <td>07/27/2020 12:56:33 PM</td>\n",
       "      <td>09/05/2020 08:51:14 AM</td>\n",
       "      <td>11354.0</td>\n",
       "      <td>Closed</td>\n",
       "    </tr>\n",
       "    <tr>\n",
       "      <th>5</th>\n",
       "      <td>06/23/2020 11:55:33 AM</td>\n",
       "      <td>08/04/2020 04:45:20 PM</td>\n",
       "      <td>NaN</td>\n",
       "      <td>Closed</td>\n",
       "    </tr>\n",
       "    <tr>\n",
       "      <th>6</th>\n",
       "      <td>06/03/2020 08:33:35 AM</td>\n",
       "      <td>07/13/2020 03:09:14 PM</td>\n",
       "      <td>NaN</td>\n",
       "      <td>Closed</td>\n",
       "    </tr>\n",
       "    <tr>\n",
       "      <th>...</th>\n",
       "      <td>...</td>\n",
       "      <td>...</td>\n",
       "      <td>...</td>\n",
       "      <td>...</td>\n",
       "    </tr>\n",
       "    <tr>\n",
       "      <th>1822989</th>\n",
       "      <td>07/10/2020 10:34:45 AM</td>\n",
       "      <td>08/26/2020 12:00:00 AM</td>\n",
       "      <td>10075.0</td>\n",
       "      <td>Closed</td>\n",
       "    </tr>\n",
       "    <tr>\n",
       "      <th>1822991</th>\n",
       "      <td>08/05/2020 02:55:52 PM</td>\n",
       "      <td>08/13/2020 06:35:49 PM</td>\n",
       "      <td>11221.0</td>\n",
       "      <td>Closed</td>\n",
       "    </tr>\n",
       "    <tr>\n",
       "      <th>1822992</th>\n",
       "      <td>07/11/2020 10:53:00 AM</td>\n",
       "      <td>08/21/2020 12:00:00 PM</td>\n",
       "      <td>11421.0</td>\n",
       "      <td>Closed</td>\n",
       "    </tr>\n",
       "    <tr>\n",
       "      <th>1822994</th>\n",
       "      <td>07/16/2020 12:00:23 PM</td>\n",
       "      <td>08/30/2020 05:59:47 PM</td>\n",
       "      <td>11691.0</td>\n",
       "      <td>Closed</td>\n",
       "    </tr>\n",
       "    <tr>\n",
       "      <th>1822995</th>\n",
       "      <td>07/16/2020 04:55:32 PM</td>\n",
       "      <td>09/05/2020 01:28:38 PM</td>\n",
       "      <td>11226.0</td>\n",
       "      <td>Closed</td>\n",
       "    </tr>\n",
       "  </tbody>\n",
       "</table>\n",
       "<p>1663697 rows × 4 columns</p>\n",
       "</div>"
      ],
      "text/plain": [
       "                           open                   close      zip  status\n",
       "0        07/20/2020 10:51:12 AM  09/05/2020 12:32:48 PM  11234.0  Closed\n",
       "2        07/21/2020 02:13:58 PM  09/05/2020 01:37:31 PM  11210.0  Closed\n",
       "3        07/27/2020 12:56:33 PM  09/05/2020 08:51:14 AM  11354.0  Closed\n",
       "5        06/23/2020 11:55:33 AM  08/04/2020 04:45:20 PM      NaN  Closed\n",
       "6        06/03/2020 08:33:35 AM  07/13/2020 03:09:14 PM      NaN  Closed\n",
       "...                         ...                     ...      ...     ...\n",
       "1822989  07/10/2020 10:34:45 AM  08/26/2020 12:00:00 AM  10075.0  Closed\n",
       "1822991  08/05/2020 02:55:52 PM  08/13/2020 06:35:49 PM  11221.0  Closed\n",
       "1822992  07/11/2020 10:53:00 AM  08/21/2020 12:00:00 PM  11421.0  Closed\n",
       "1822994  07/16/2020 12:00:23 PM  08/30/2020 05:59:47 PM  11691.0  Closed\n",
       "1822995  07/16/2020 04:55:32 PM  09/05/2020 01:28:38 PM  11226.0  Closed\n",
       "\n",
       "[1663697 rows x 4 columns]"
      ]
     },
     "execution_count": 22,
     "metadata": {},
     "output_type": "execute_result"
    }
   ],
   "source": [
    "df"
   ]
  },
  {
   "cell_type": "code",
   "execution_count": 23,
   "metadata": {},
   "outputs": [
    {
     "data": {
      "text/plain": [
       "open      False\n",
       "close      True\n",
       "zip        True\n",
       "status    False\n",
       "dtype: bool"
      ]
     },
     "execution_count": 23,
     "metadata": {},
     "output_type": "execute_result"
    }
   ],
   "source": [
    "df.isnull().any()\n"
   ]
  },
  {
   "cell_type": "code",
   "execution_count": 28,
   "metadata": {},
   "outputs": [],
   "source": [
    "#pd.to_datetime(df['dates'], format='%m%d%y%H%M%S')\n",
    "format='%m%d%y%H%M%S'"
   ]
  },
  {
   "cell_type": "code",
   "execution_count": 18,
   "metadata": {},
   "outputs": [],
   "source": [
    "df['open'] = pd.to_datetime(df['open'],format='%m/%d/%Y %H:%M:%S %p') # convert to datetime format\n",
    "df['close'] = pd.to_datetime(df['close'],format='%m/%d/%Y %H:%M:%S %p')\n"
   ]
  },
  {
   "cell_type": "code",
   "execution_count": 19,
   "metadata": {},
   "outputs": [
    {
     "data": {
      "text/plain": [
       "pandas._libs.tslibs.timestamps.Timestamp"
      ]
     },
     "execution_count": 19,
     "metadata": {},
     "output_type": "execute_result"
    }
   ],
   "source": [
    "type(df['close'][0])\n"
   ]
  },
  {
   "cell_type": "code",
   "execution_count": 20,
   "metadata": {},
   "outputs": [],
   "source": [
    "\"\"\"\n",
    "The goal of your dashboard is to allow a city official to evaluate the difference in response time to \n",
    "complaints filed through the 311 service by zipcode. Response time is measured as the amount of time from \n",
    "incident creation to incident closed.\n",
    "\"\"\"\n",
    "df['response_time_hr'] = (df['close']-df['open']).astype('timedelta64[h]')\n"
   ]
  },
  {
   "cell_type": "code",
   "execution_count": 21,
   "metadata": {},
   "outputs": [
    {
     "data": {
      "text/html": [
       "<div>\n",
       "<style scoped>\n",
       "    .dataframe tbody tr th:only-of-type {\n",
       "        vertical-align: middle;\n",
       "    }\n",
       "\n",
       "    .dataframe tbody tr th {\n",
       "        vertical-align: top;\n",
       "    }\n",
       "\n",
       "    .dataframe thead th {\n",
       "        text-align: right;\n",
       "    }\n",
       "</style>\n",
       "<table border=\"1\" class=\"dataframe\">\n",
       "  <thead>\n",
       "    <tr style=\"text-align: right;\">\n",
       "      <th></th>\n",
       "      <th>open</th>\n",
       "      <th>close</th>\n",
       "      <th>zip</th>\n",
       "      <th>status</th>\n",
       "      <th>response_time_hr</th>\n",
       "    </tr>\n",
       "  </thead>\n",
       "  <tbody>\n",
       "    <tr>\n",
       "      <th>0</th>\n",
       "      <td>2020-07-20 10:51:12</td>\n",
       "      <td>2020-09-05 12:32:48</td>\n",
       "      <td>11234.0</td>\n",
       "      <td>Closed</td>\n",
       "      <td>1129.0</td>\n",
       "    </tr>\n",
       "    <tr>\n",
       "      <th>1</th>\n",
       "      <td>2020-07-21 02:13:58</td>\n",
       "      <td>2020-09-05 01:37:31</td>\n",
       "      <td>11210.0</td>\n",
       "      <td>Closed</td>\n",
       "      <td>1103.0</td>\n",
       "    </tr>\n",
       "    <tr>\n",
       "      <th>2</th>\n",
       "      <td>2020-07-27 12:56:33</td>\n",
       "      <td>2020-09-05 08:51:14</td>\n",
       "      <td>11354.0</td>\n",
       "      <td>Closed</td>\n",
       "      <td>955.0</td>\n",
       "    </tr>\n",
       "    <tr>\n",
       "      <th>3</th>\n",
       "      <td>2020-06-23 11:55:33</td>\n",
       "      <td>2020-08-04 04:45:20</td>\n",
       "      <td>NaN</td>\n",
       "      <td>Closed</td>\n",
       "      <td>1000.0</td>\n",
       "    </tr>\n",
       "    <tr>\n",
       "      <th>4</th>\n",
       "      <td>2020-06-03 08:33:35</td>\n",
       "      <td>2020-07-13 03:09:14</td>\n",
       "      <td>NaN</td>\n",
       "      <td>Closed</td>\n",
       "      <td>954.0</td>\n",
       "    </tr>\n",
       "    <tr>\n",
       "      <th>...</th>\n",
       "      <td>...</td>\n",
       "      <td>...</td>\n",
       "      <td>...</td>\n",
       "      <td>...</td>\n",
       "      <td>...</td>\n",
       "    </tr>\n",
       "    <tr>\n",
       "      <th>1705660</th>\n",
       "      <td>2020-07-10 10:34:45</td>\n",
       "      <td>2020-08-26 12:00:00</td>\n",
       "      <td>10075.0</td>\n",
       "      <td>Closed</td>\n",
       "      <td>1129.0</td>\n",
       "    </tr>\n",
       "    <tr>\n",
       "      <th>1705661</th>\n",
       "      <td>2020-08-05 02:55:52</td>\n",
       "      <td>2020-08-13 06:35:49</td>\n",
       "      <td>11221.0</td>\n",
       "      <td>Closed</td>\n",
       "      <td>195.0</td>\n",
       "    </tr>\n",
       "    <tr>\n",
       "      <th>1705662</th>\n",
       "      <td>2020-07-11 10:53:00</td>\n",
       "      <td>2020-08-21 12:00:00</td>\n",
       "      <td>11421.0</td>\n",
       "      <td>Closed</td>\n",
       "      <td>985.0</td>\n",
       "    </tr>\n",
       "    <tr>\n",
       "      <th>1705663</th>\n",
       "      <td>2020-07-16 12:00:23</td>\n",
       "      <td>2020-08-30 05:59:47</td>\n",
       "      <td>11691.0</td>\n",
       "      <td>Closed</td>\n",
       "      <td>1073.0</td>\n",
       "    </tr>\n",
       "    <tr>\n",
       "      <th>1705664</th>\n",
       "      <td>2020-07-16 04:55:32</td>\n",
       "      <td>2020-09-05 01:28:38</td>\n",
       "      <td>11226.0</td>\n",
       "      <td>Closed</td>\n",
       "      <td>1220.0</td>\n",
       "    </tr>\n",
       "  </tbody>\n",
       "</table>\n",
       "<p>1705665 rows × 5 columns</p>\n",
       "</div>"
      ],
      "text/plain": [
       "                       open               close      zip  status  \\\n",
       "0       2020-07-20 10:51:12 2020-09-05 12:32:48  11234.0  Closed   \n",
       "1       2020-07-21 02:13:58 2020-09-05 01:37:31  11210.0  Closed   \n",
       "2       2020-07-27 12:56:33 2020-09-05 08:51:14  11354.0  Closed   \n",
       "3       2020-06-23 11:55:33 2020-08-04 04:45:20      NaN  Closed   \n",
       "4       2020-06-03 08:33:35 2020-07-13 03:09:14      NaN  Closed   \n",
       "...                     ...                 ...      ...     ...   \n",
       "1705660 2020-07-10 10:34:45 2020-08-26 12:00:00  10075.0  Closed   \n",
       "1705661 2020-08-05 02:55:52 2020-08-13 06:35:49  11221.0  Closed   \n",
       "1705662 2020-07-11 10:53:00 2020-08-21 12:00:00  11421.0  Closed   \n",
       "1705663 2020-07-16 12:00:23 2020-08-30 05:59:47  11691.0  Closed   \n",
       "1705664 2020-07-16 04:55:32 2020-09-05 01:28:38  11226.0  Closed   \n",
       "\n",
       "         response_time_hr  \n",
       "0                  1129.0  \n",
       "1                  1103.0  \n",
       "2                   955.0  \n",
       "3                  1000.0  \n",
       "4                   954.0  \n",
       "...                   ...  \n",
       "1705660            1129.0  \n",
       "1705661             195.0  \n",
       "1705662             985.0  \n",
       "1705663            1073.0  \n",
       "1705664            1220.0  \n",
       "\n",
       "[1705665 rows x 5 columns]"
      ]
     },
     "execution_count": 21,
     "metadata": {},
     "output_type": "execute_result"
    }
   ],
   "source": [
    "df"
   ]
  },
  {
   "cell_type": "code",
   "execution_count": 22,
   "metadata": {},
   "outputs": [],
   "source": [
    "df_grouped = df.groupby('zip')['response_time_hr'].mean()"
   ]
  },
  {
   "cell_type": "code",
   "execution_count": 27,
   "metadata": {},
   "outputs": [
    {
     "data": {
      "text/html": [
       "<div>\n",
       "<style scoped>\n",
       "    .dataframe tbody tr th:only-of-type {\n",
       "        vertical-align: middle;\n",
       "    }\n",
       "\n",
       "    .dataframe tbody tr th {\n",
       "        vertical-align: top;\n",
       "    }\n",
       "\n",
       "    .dataframe thead th {\n",
       "        text-align: right;\n",
       "    }\n",
       "</style>\n",
       "<table border=\"1\" class=\"dataframe\">\n",
       "  <thead>\n",
       "    <tr style=\"text-align: right;\">\n",
       "      <th></th>\n",
       "      <th>response_time_hr</th>\n",
       "    </tr>\n",
       "    <tr>\n",
       "      <th>zip</th>\n",
       "      <th></th>\n",
       "    </tr>\n",
       "  </thead>\n",
       "  <tbody>\n",
       "    <tr>\n",
       "      <th>83.0</th>\n",
       "      <td>-1.800000</td>\n",
       "    </tr>\n",
       "    <tr>\n",
       "      <th>10000.0</th>\n",
       "      <td>20.971053</td>\n",
       "    </tr>\n",
       "    <tr>\n",
       "      <th>10001.0</th>\n",
       "      <td>97.398995</td>\n",
       "    </tr>\n",
       "    <tr>\n",
       "      <th>10002.0</th>\n",
       "      <td>86.351371</td>\n",
       "    </tr>\n",
       "    <tr>\n",
       "      <th>10003.0</th>\n",
       "      <td>114.529180</td>\n",
       "    </tr>\n",
       "    <tr>\n",
       "      <th>...</th>\n",
       "      <td>...</td>\n",
       "    </tr>\n",
       "    <tr>\n",
       "      <th>11693.0</th>\n",
       "      <td>93.293090</td>\n",
       "    </tr>\n",
       "    <tr>\n",
       "      <th>11694.0</th>\n",
       "      <td>89.796308</td>\n",
       "    </tr>\n",
       "    <tr>\n",
       "      <th>11695.0</th>\n",
       "      <td>121.615385</td>\n",
       "    </tr>\n",
       "    <tr>\n",
       "      <th>11697.0</th>\n",
       "      <td>111.796610</td>\n",
       "    </tr>\n",
       "    <tr>\n",
       "      <th>12345.0</th>\n",
       "      <td>42.441176</td>\n",
       "    </tr>\n",
       "  </tbody>\n",
       "</table>\n",
       "<p>236 rows × 1 columns</p>\n",
       "</div>"
      ],
      "text/plain": [
       "         response_time_hr\n",
       "zip                      \n",
       "83.0            -1.800000\n",
       "10000.0         20.971053\n",
       "10001.0         97.398995\n",
       "10002.0         86.351371\n",
       "10003.0        114.529180\n",
       "...                   ...\n",
       "11693.0         93.293090\n",
       "11694.0         89.796308\n",
       "11695.0        121.615385\n",
       "11697.0        111.796610\n",
       "12345.0         42.441176\n",
       "\n",
       "[236 rows x 1 columns]"
      ]
     },
     "execution_count": 27,
     "metadata": {},
     "output_type": "execute_result"
    }
   ],
   "source": [
    "pd.DataFrame(df_grouped)"
   ]
  },
  {
   "cell_type": "code",
   "execution_count": null,
   "metadata": {},
   "outputs": [],
   "source": []
  },
  {
   "cell_type": "code",
   "execution_count": 24,
   "metadata": {},
   "outputs": [
    {
     "data": {
      "text/plain": [
       "97.39899470180681"
      ]
     },
     "execution_count": 24,
     "metadata": {},
     "output_type": "execute_result"
    }
   ],
   "source": [
    "df_grouped[10001]"
   ]
  },
  {
   "cell_type": "code",
   "execution_count": 25,
   "metadata": {},
   "outputs": [
    {
     "data": {
      "text/plain": [
       "Float64Index([   83.0, 10000.0, 10001.0, 10002.0, 10003.0, 10004.0, 10005.0,\n",
       "              10006.0, 10007.0, 10009.0,\n",
       "              ...\n",
       "              11434.0, 11435.0, 11436.0, 11691.0, 11692.0, 11693.0, 11694.0,\n",
       "              11695.0, 11697.0, 12345.0],\n",
       "             dtype='float64', name='zip', length=236)"
      ]
     },
     "execution_count": 25,
     "metadata": {},
     "output_type": "execute_result"
    }
   ],
   "source": [
    "df_grouped.index"
   ]
  },
  {
   "cell_type": "code",
   "execution_count": 26,
   "metadata": {},
   "outputs": [],
   "source": [
    "def construct_df(filename): # input the 2020_closed_nyc_311.csv\"\n",
    "    df = pd.read_csv(filename, header=None, names=['open', 'close', 'zip', 'status'])\n",
    "  #  df = df[df['status'] == 'Closed'].copy()\n",
    " #   df.reset_index(inplace=True)\n",
    "    df['open'] = pd.to_datetime(df['open'],format='%m/%d/%Y %H:%M:%S %p') # convert to datetime format\n",
    "    df['close'] = pd.to_datetime(df['close'],format='%m/%d/%Y %H:%M:%S %p')\n",
    "    df['response_time_hr'] = (df['close']-df['open']).astype('timedelta64[h]') \n",
    "    df_grouped = df.groupby('zip')['response_time_hr'].mean()\n",
    "    return df_grouped"
   ]
  },
  {
   "cell_type": "code",
   "execution_count": 20,
   "metadata": {},
   "outputs": [],
   "source": [
    "my_df  = construct_df(\"small_nyc.csv\")"
   ]
  },
  {
   "cell_type": "code",
   "execution_count": 21,
   "metadata": {},
   "outputs": [],
   "source": [
    "def query_zip(df, zip_code):\n",
    "    return df[zip_code]"
   ]
  },
  {
   "cell_type": "code",
   "execution_count": 22,
   "metadata": {},
   "outputs": [
    {
     "data": {
      "text/plain": [
       "13.8"
      ]
     },
     "execution_count": 22,
     "metadata": {},
     "output_type": "execute_result"
    }
   ],
   "source": [
    "query_zip(my_df, 10001)"
   ]
  },
  {
   "cell_type": "code",
   "execution_count": 28,
   "metadata": {},
   "outputs": [
    {
     "data": {
      "text/plain": [
       "0      False\n",
       "1      False\n",
       "2      False\n",
       "3      False\n",
       "4      False\n",
       "       ...  \n",
       "237    False\n",
       "238    False\n",
       "239    False\n",
       "240    False\n",
       "241    False\n",
       "Name: open, Length: 242, dtype: bool"
      ]
     },
     "execution_count": 28,
     "metadata": {},
     "output_type": "execute_result"
    }
   ],
   "source": []
  },
  {
   "cell_type": "code",
   "execution_count": 27,
   "metadata": {},
   "outputs": [
    {
     "data": {
      "text/plain": [
       "Timestamp('2020-01-01 00:00:00')"
      ]
     },
     "execution_count": 27,
     "metadata": {},
     "output_type": "execute_result"
    }
   ],
   "source": []
  },
  {
   "cell_type": "code",
   "execution_count": null,
   "metadata": {},
   "outputs": [],
   "source": []
  }
 ],
 "metadata": {
  "kernelspec": {
   "display_name": "Python 3",
   "language": "python",
   "name": "python3"
  },
  "language_info": {
   "codemirror_mode": {
    "name": "ipython",
    "version": 3
   },
   "file_extension": ".py",
   "mimetype": "text/x-python",
   "name": "python",
   "nbconvert_exporter": "python",
   "pygments_lexer": "ipython3",
   "version": "3.8.3"
  }
 },
 "nbformat": 4,
 "nbformat_minor": 4
}
