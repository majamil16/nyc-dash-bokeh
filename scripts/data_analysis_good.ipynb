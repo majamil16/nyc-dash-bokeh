{
 "cells": [
  {
   "cell_type": "code",
   "execution_count": 36,
   "metadata": {},
   "outputs": [],
   "source": [
    "import pandas as pd\n",
    "import numpy as np"
   ]
  },
  {
   "cell_type": "code",
   "execution_count": 37,
   "metadata": {},
   "outputs": [],
   "source": [
    "#df = pd.read_csv(\"../data/small_nyc.csv\", header=None,  usecols=[1, 2, 8, 19], names=['open', 'close', 'zip', 'status'])\n",
    "df = pd.read_csv(\"../data/2020_closed_nyc_311.csv\", header=None, names=['open', 'close', 'zip', 'status'], dtype={'zip': str})\n",
    "\n"
   ]
  },
  {
   "cell_type": "code",
   "execution_count": 38,
   "metadata": {},
   "outputs": [
    {
     "data": {
      "text/html": [
       "<div>\n",
       "<style scoped>\n",
       "    .dataframe tbody tr th:only-of-type {\n",
       "        vertical-align: middle;\n",
       "    }\n",
       "\n",
       "    .dataframe tbody tr th {\n",
       "        vertical-align: top;\n",
       "    }\n",
       "\n",
       "    .dataframe thead th {\n",
       "        text-align: right;\n",
       "    }\n",
       "</style>\n",
       "<table border=\"1\" class=\"dataframe\">\n",
       "  <thead>\n",
       "    <tr style=\"text-align: right;\">\n",
       "      <th></th>\n",
       "      <th>open</th>\n",
       "      <th>close</th>\n",
       "      <th>zip</th>\n",
       "      <th>status</th>\n",
       "    </tr>\n",
       "  </thead>\n",
       "  <tbody>\n",
       "    <tr>\n",
       "      <th>0</th>\n",
       "      <td>07/20/2020 10:51:12 AM</td>\n",
       "      <td>09/05/2020 12:32:48 PM</td>\n",
       "      <td>11234</td>\n",
       "      <td>Closed</td>\n",
       "    </tr>\n",
       "    <tr>\n",
       "      <th>1</th>\n",
       "      <td>07/21/2020 02:13:58 PM</td>\n",
       "      <td>09/05/2020 01:37:31 PM</td>\n",
       "      <td>11210</td>\n",
       "      <td>Closed</td>\n",
       "    </tr>\n",
       "    <tr>\n",
       "      <th>2</th>\n",
       "      <td>07/27/2020 12:56:33 PM</td>\n",
       "      <td>09/05/2020 08:51:14 AM</td>\n",
       "      <td>11354</td>\n",
       "      <td>Closed</td>\n",
       "    </tr>\n",
       "    <tr>\n",
       "      <th>3</th>\n",
       "      <td>06/23/2020 11:55:33 AM</td>\n",
       "      <td>08/04/2020 04:45:20 PM</td>\n",
       "      <td>NaN</td>\n",
       "      <td>Closed</td>\n",
       "    </tr>\n",
       "    <tr>\n",
       "      <th>4</th>\n",
       "      <td>06/03/2020 08:33:35 AM</td>\n",
       "      <td>07/13/2020 03:09:14 PM</td>\n",
       "      <td>NaN</td>\n",
       "      <td>Closed</td>\n",
       "    </tr>\n",
       "    <tr>\n",
       "      <th>...</th>\n",
       "      <td>...</td>\n",
       "      <td>...</td>\n",
       "      <td>...</td>\n",
       "      <td>...</td>\n",
       "    </tr>\n",
       "    <tr>\n",
       "      <th>1705660</th>\n",
       "      <td>07/10/2020 10:34:45 AM</td>\n",
       "      <td>08/26/2020 12:00:00 AM</td>\n",
       "      <td>10075</td>\n",
       "      <td>Closed</td>\n",
       "    </tr>\n",
       "    <tr>\n",
       "      <th>1705661</th>\n",
       "      <td>08/05/2020 02:55:52 PM</td>\n",
       "      <td>08/13/2020 06:35:49 PM</td>\n",
       "      <td>11221</td>\n",
       "      <td>Closed</td>\n",
       "    </tr>\n",
       "    <tr>\n",
       "      <th>1705662</th>\n",
       "      <td>07/11/2020 10:53:00 AM</td>\n",
       "      <td>08/21/2020 12:00:00 PM</td>\n",
       "      <td>11421</td>\n",
       "      <td>Closed</td>\n",
       "    </tr>\n",
       "    <tr>\n",
       "      <th>1705663</th>\n",
       "      <td>07/16/2020 12:00:23 PM</td>\n",
       "      <td>08/30/2020 05:59:47 PM</td>\n",
       "      <td>11691</td>\n",
       "      <td>Closed</td>\n",
       "    </tr>\n",
       "    <tr>\n",
       "      <th>1705664</th>\n",
       "      <td>07/16/2020 04:55:32 PM</td>\n",
       "      <td>09/05/2020 01:28:38 PM</td>\n",
       "      <td>11226</td>\n",
       "      <td>Closed</td>\n",
       "    </tr>\n",
       "  </tbody>\n",
       "</table>\n",
       "<p>1705665 rows × 4 columns</p>\n",
       "</div>"
      ],
      "text/plain": [
       "                           open                   close    zip  status\n",
       "0        07/20/2020 10:51:12 AM  09/05/2020 12:32:48 PM  11234  Closed\n",
       "1        07/21/2020 02:13:58 PM  09/05/2020 01:37:31 PM  11210  Closed\n",
       "2        07/27/2020 12:56:33 PM  09/05/2020 08:51:14 AM  11354  Closed\n",
       "3        06/23/2020 11:55:33 AM  08/04/2020 04:45:20 PM    NaN  Closed\n",
       "4        06/03/2020 08:33:35 AM  07/13/2020 03:09:14 PM    NaN  Closed\n",
       "...                         ...                     ...    ...     ...\n",
       "1705660  07/10/2020 10:34:45 AM  08/26/2020 12:00:00 AM  10075  Closed\n",
       "1705661  08/05/2020 02:55:52 PM  08/13/2020 06:35:49 PM  11221  Closed\n",
       "1705662  07/11/2020 10:53:00 AM  08/21/2020 12:00:00 PM  11421  Closed\n",
       "1705663  07/16/2020 12:00:23 PM  08/30/2020 05:59:47 PM  11691  Closed\n",
       "1705664  07/16/2020 04:55:32 PM  09/05/2020 01:28:38 PM  11226  Closed\n",
       "\n",
       "[1705665 rows x 4 columns]"
      ]
     },
     "execution_count": 38,
     "metadata": {},
     "output_type": "execute_result"
    }
   ],
   "source": [
    "\n",
    "df"
   ]
  },
  {
   "cell_type": "code",
   "execution_count": 39,
   "metadata": {},
   "outputs": [],
   "source": [
    "#type(df['open'][0])"
   ]
  },
  {
   "cell_type": "code",
   "execution_count": 40,
   "metadata": {},
   "outputs": [],
   "source": [
    "#df.isnull().any()"
   ]
  },
  {
   "cell_type": "code",
   "execution_count": 41,
   "metadata": {},
   "outputs": [],
   "source": [
    "#df = df[df['status'] == 'Closed'] # restrict to only the closed columns\n",
    "# will also need to do df['open'] > pd.Timestamp(2020,1,1)\n"
   ]
  },
  {
   "cell_type": "code",
   "execution_count": 42,
   "metadata": {},
   "outputs": [],
   "source": [
    "\n",
    "#df.isnull().any()\n",
    "#df"
   ]
  },
  {
   "cell_type": "code",
   "execution_count": 43,
   "metadata": {},
   "outputs": [],
   "source": [
    "#df"
   ]
  },
  {
   "cell_type": "code",
   "execution_count": 44,
   "metadata": {},
   "outputs": [],
   "source": [
    "#sum((df['zip'] == 83.0))  # there are 4 zip codes of 83 ???"
   ]
  },
  {
   "cell_type": "code",
   "execution_count": null,
   "metadata": {},
   "outputs": [],
   "source": []
  },
  {
   "cell_type": "code",
   "execution_count": 45,
   "metadata": {},
   "outputs": [],
   "source": [
    "#pd.to_datetime(df['dates'], format='%m%d%y%H%M%S')\n",
    "format='%m%d%y%H%M%S'"
   ]
  },
  {
   "cell_type": "code",
   "execution_count": 46,
   "metadata": {},
   "outputs": [],
   "source": [
    "df['open'] = pd.to_datetime(df['open'],format='%m/%d/%Y %H:%M:%S %p') # convert to datetime format\n",
    "df['close'] = pd.to_datetime(df['close'],format='%m/%d/%Y %H:%M:%S %p')\n"
   ]
  },
  {
   "cell_type": "code",
   "execution_count": 47,
   "metadata": {},
   "outputs": [],
   "source": [
    "\n",
    "df.replace(np.nan, -99999, inplace=True) # use -99999 to denote a nan zipcode"
   ]
  },
  {
   "cell_type": "code",
   "execution_count": 48,
   "metadata": {},
   "outputs": [
    {
     "data": {
      "text/plain": [
       "array(['11234', '11210', '11354', -99999, '10451', '10031', '11364',\n",
       "       '10301', '10016', '10305', '11217', '10022', '11103', '10036',\n",
       "       '10017', '10065', '10075', '10010', '10023', '10021', '11377',\n",
       "       '10003', '11379', '10001', '10009', '11207', '11237', '10002',\n",
       "       '11104', '10035', '11373', '11212', '11213', '10454', '10128',\n",
       "       '11375', '10004', '10458', '11230', '10168', '11238', '11224',\n",
       "       '10453', '10457', '11236', '11413', '11415', '11432', '11361',\n",
       "       '11372', '11419', '10466', '10472', '10029', '11691', '11433',\n",
       "       '11204', '10306', '11412', '11416', '11694', '10452', '11434',\n",
       "       '10011', '10040', '10032', '10460', '10034', '11221', '11205',\n",
       "       '10459', '11231', '10033', '11423', '11105', '11233', '11226',\n",
       "       '11216', '10455', '10473', '10024', '11360', '10469', '11418',\n",
       "       '11435', '11219', '11428', '10468', '11229', '11218', '11203',\n",
       "       '10310', '11225', '11420', '11378', '10028', '10025', '11211',\n",
       "       '10019', '11208', '10467', '11693', '11101', '10456', '11692',\n",
       "       '11429', '11422', '11385', '10302', '10314', '11369', '11370',\n",
       "       '11102', '10462', '10463', '11414', '11106', '11356', '10012',\n",
       "       '10027', '10470', '10304', '10014', '11357', '10308', '11214',\n",
       "       '10474', '11367', '11358', '11374', '10038', '10309', '11436',\n",
       "       '11411', '10312', '10303', '11368', '11201', '11215', '11232',\n",
       "       '11220', '11228', '11223', '11249', '10465', '11004', '11209',\n",
       "       '10026', '10461', '11355', '11235', '10169', '11421', '11206',\n",
       "       '11222', '10039', '10037', '11417', '10013', '11365', '10018',\n",
       "       '11426', '10475', '11109', '11366', '10464', '10471', '10007',\n",
       "       '10307', '11362', '10030', '10121', '11430', '10005', '10044',\n",
       "       '11427', '10282', '11239', '10173', '11359', '10280', '10177',\n",
       "       '11001', '10105', '11040', '10178', '11363', '10006', '10069',\n",
       "       '11005', '12345', '10171', '10120', '10278', '10020', '10119',\n",
       "       '10172', '10281', '10279', '10041', '10165', '11371', '10162',\n",
       "       '11697', '10151', '10103', '10118', '11242', '10154', '10152',\n",
       "       '10271', '10110', '10155', '11695', '10000', '10045', '10123',\n",
       "       '10170', '10166', '10158', '10179', '11251', '10122', '10111',\n",
       "       '10055', '10112', '11241', '10107', '10176', '10106', '10115',\n",
       "       '10174', '00083', '10153', '10048', '10167', '10175'], dtype=object)"
      ]
     },
     "execution_count": 48,
     "metadata": {},
     "output_type": "execute_result"
    }
   ],
   "source": [
    "type(df['zip'][0])\n",
    "df['zip'].unique()"
   ]
  },
  {
   "cell_type": "code",
   "execution_count": 49,
   "metadata": {},
   "outputs": [],
   "source": [
    "\"\"\"\n",
    "The goal of your dashboard is to allow a city official to evaluate the difference in response time to \n",
    "complaints filed through the 311 service by zipcode. Response time is measured as the amount of time from \n",
    "incident creation to incident closed.\n",
    "\"\"\"\n",
    "df['response_time_hr'] = (df['close']-df['open']).astype('timedelta64[h]')\n"
   ]
  },
  {
   "cell_type": "code",
   "execution_count": 56,
   "metadata": {
    "collapsed": true
   },
   "outputs": [
    {
     "data": {
      "text/html": [
       "<div>\n",
       "<style scoped>\n",
       "    .dataframe tbody tr th:only-of-type {\n",
       "        vertical-align: middle;\n",
       "    }\n",
       "\n",
       "    .dataframe tbody tr th {\n",
       "        vertical-align: top;\n",
       "    }\n",
       "\n",
       "    .dataframe thead th {\n",
       "        text-align: right;\n",
       "    }\n",
       "</style>\n",
       "<table border=\"1\" class=\"dataframe\">\n",
       "  <thead>\n",
       "    <tr style=\"text-align: right;\">\n",
       "      <th></th>\n",
       "      <th></th>\n",
       "      <th>response_time_hr</th>\n",
       "    </tr>\n",
       "    <tr>\n",
       "      <th>open</th>\n",
       "      <th>zip</th>\n",
       "      <th></th>\n",
       "    </tr>\n",
       "  </thead>\n",
       "  <tbody>\n",
       "    <tr>\n",
       "      <th rowspan=\"5\" valign=\"top\">2020-01-31</th>\n",
       "      <th>-99999</th>\n",
       "      <td>189.152793</td>\n",
       "    </tr>\n",
       "    <tr>\n",
       "      <th>10000</th>\n",
       "      <td>105.400000</td>\n",
       "    </tr>\n",
       "    <tr>\n",
       "      <th>10001</th>\n",
       "      <td>194.940379</td>\n",
       "    </tr>\n",
       "    <tr>\n",
       "      <th>10002</th>\n",
       "      <td>157.890135</td>\n",
       "    </tr>\n",
       "    <tr>\n",
       "      <th>10003</th>\n",
       "      <td>178.004862</td>\n",
       "    </tr>\n",
       "    <tr>\n",
       "      <th>...</th>\n",
       "      <th>...</th>\n",
       "      <td>...</td>\n",
       "    </tr>\n",
       "    <tr>\n",
       "      <th rowspan=\"5\" valign=\"top\">2020-09-30</th>\n",
       "      <th>11693</th>\n",
       "      <td>14.330677</td>\n",
       "    </tr>\n",
       "    <tr>\n",
       "      <th>11694</th>\n",
       "      <td>16.804178</td>\n",
       "    </tr>\n",
       "    <tr>\n",
       "      <th>11695</th>\n",
       "      <td>28.000000</td>\n",
       "    </tr>\n",
       "    <tr>\n",
       "      <th>11697</th>\n",
       "      <td>34.285714</td>\n",
       "    </tr>\n",
       "    <tr>\n",
       "      <th>12345</th>\n",
       "      <td>-1.800000</td>\n",
       "    </tr>\n",
       "  </tbody>\n",
       "</table>\n",
       "<p>1947 rows × 1 columns</p>\n",
       "</div>"
      ],
      "text/plain": [
       "                   response_time_hr\n",
       "open       zip                     \n",
       "2020-01-31 -99999        189.152793\n",
       "           10000         105.400000\n",
       "           10001         194.940379\n",
       "           10002         157.890135\n",
       "           10003         178.004862\n",
       "...                             ...\n",
       "2020-09-30 11693          14.330677\n",
       "           11694          16.804178\n",
       "           11695          28.000000\n",
       "           11697          34.285714\n",
       "           12345          -1.800000\n",
       "\n",
       "[1947 rows x 1 columns]"
      ]
     },
     "execution_count": 56,
     "metadata": {},
     "output_type": "execute_result"
    }
   ],
   "source": [
    "#df_grouped = df.groupby('zip')['response_time_hr'].mean()\n",
    "monthly_grouped = pd.DataFrame(df.groupby([pd.Grouper(key='open',freq='M'), 'zip'])['response_time_hr'].mean())\n",
    "monthly_grouped\n",
    "#df.groupby(Grouper(key='date', freq='60s'))"
   ]
  },
  {
   "cell_type": "code",
   "execution_count": 62,
   "metadata": {
    "collapsed": true
   },
   "outputs": [
    {
     "data": {
      "text/html": [
       "<div>\n",
       "<style scoped>\n",
       "    .dataframe tbody tr th:only-of-type {\n",
       "        vertical-align: middle;\n",
       "    }\n",
       "\n",
       "    .dataframe tbody tr th {\n",
       "        vertical-align: top;\n",
       "    }\n",
       "\n",
       "    .dataframe thead th {\n",
       "        text-align: right;\n",
       "    }\n",
       "</style>\n",
       "<table border=\"1\" class=\"dataframe\">\n",
       "  <thead>\n",
       "    <tr style=\"text-align: right;\">\n",
       "      <th></th>\n",
       "      <th></th>\n",
       "      <th>response_time_hr</th>\n",
       "    </tr>\n",
       "    <tr>\n",
       "      <th>open</th>\n",
       "      <th>zip</th>\n",
       "      <th></th>\n",
       "    </tr>\n",
       "  </thead>\n",
       "  <tbody>\n",
       "    <tr>\n",
       "      <th>2020-01-31</th>\n",
       "      <th>10001</th>\n",
       "      <td>194.940379</td>\n",
       "    </tr>\n",
       "    <tr>\n",
       "      <th>2020-02-29</th>\n",
       "      <th>10001</th>\n",
       "      <td>262.094498</td>\n",
       "    </tr>\n",
       "    <tr>\n",
       "      <th>2020-03-31</th>\n",
       "      <th>10001</th>\n",
       "      <td>144.324675</td>\n",
       "    </tr>\n",
       "    <tr>\n",
       "      <th>2020-04-30</th>\n",
       "      <th>10001</th>\n",
       "      <td>59.202206</td>\n",
       "    </tr>\n",
       "    <tr>\n",
       "      <th>2020-05-31</th>\n",
       "      <th>10001</th>\n",
       "      <td>58.264205</td>\n",
       "    </tr>\n",
       "    <tr>\n",
       "      <th>2020-06-30</th>\n",
       "      <th>10001</th>\n",
       "      <td>56.977515</td>\n",
       "    </tr>\n",
       "    <tr>\n",
       "      <th>2020-07-31</th>\n",
       "      <th>10001</th>\n",
       "      <td>48.512887</td>\n",
       "    </tr>\n",
       "    <tr>\n",
       "      <th>2020-08-31</th>\n",
       "      <th>10001</th>\n",
       "      <td>51.944146</td>\n",
       "    </tr>\n",
       "    <tr>\n",
       "      <th>2020-09-30</th>\n",
       "      <th>10001</th>\n",
       "      <td>20.082027</td>\n",
       "    </tr>\n",
       "  </tbody>\n",
       "</table>\n",
       "</div>"
      ],
      "text/plain": [
       "                  response_time_hr\n",
       "open       zip                    \n",
       "2020-01-31 10001        194.940379\n",
       "2020-02-29 10001        262.094498\n",
       "2020-03-31 10001        144.324675\n",
       "2020-04-30 10001         59.202206\n",
       "2020-05-31 10001         58.264205\n",
       "2020-06-30 10001         56.977515\n",
       "2020-07-31 10001         48.512887\n",
       "2020-08-31 10001         51.944146\n",
       "2020-09-30 10001         20.082027"
      ]
     },
     "execution_count": 62,
     "metadata": {},
     "output_type": "execute_result"
    }
   ],
   "source": [
    "# want the data for zipcode 10001\n",
    "monthly_grouped.loc[(slice(None), \"10001\"),:]"
   ]
  },
  {
   "cell_type": "code",
   "execution_count": 33,
   "metadata": {
    "collapsed": true
   },
   "outputs": [
    {
     "data": {
      "text/html": [
       "<div>\n",
       "<style scoped>\n",
       "    .dataframe tbody tr th:only-of-type {\n",
       "        vertical-align: middle;\n",
       "    }\n",
       "\n",
       "    .dataframe tbody tr th {\n",
       "        vertical-align: top;\n",
       "    }\n",
       "\n",
       "    .dataframe thead th {\n",
       "        text-align: right;\n",
       "    }\n",
       "</style>\n",
       "<table border=\"1\" class=\"dataframe\">\n",
       "  <thead>\n",
       "    <tr style=\"text-align: right;\">\n",
       "      <th></th>\n",
       "      <th>open</th>\n",
       "      <th>close</th>\n",
       "      <th>zip</th>\n",
       "      <th>status</th>\n",
       "      <th>response_time_hr</th>\n",
       "    </tr>\n",
       "  </thead>\n",
       "  <tbody>\n",
       "    <tr>\n",
       "      <th>0</th>\n",
       "      <td>2020-07-20 10:51:12</td>\n",
       "      <td>2020-09-05 12:32:48</td>\n",
       "      <td>11234</td>\n",
       "      <td>Closed</td>\n",
       "      <td>1129.0</td>\n",
       "    </tr>\n",
       "    <tr>\n",
       "      <th>1</th>\n",
       "      <td>2020-07-21 02:13:58</td>\n",
       "      <td>2020-09-05 01:37:31</td>\n",
       "      <td>11210</td>\n",
       "      <td>Closed</td>\n",
       "      <td>1103.0</td>\n",
       "    </tr>\n",
       "    <tr>\n",
       "      <th>2</th>\n",
       "      <td>2020-07-27 12:56:33</td>\n",
       "      <td>2020-09-05 08:51:14</td>\n",
       "      <td>11354</td>\n",
       "      <td>Closed</td>\n",
       "      <td>955.0</td>\n",
       "    </tr>\n",
       "    <tr>\n",
       "      <th>3</th>\n",
       "      <td>2020-06-23 11:55:33</td>\n",
       "      <td>2020-08-04 04:45:20</td>\n",
       "      <td>-99999</td>\n",
       "      <td>Closed</td>\n",
       "      <td>1000.0</td>\n",
       "    </tr>\n",
       "    <tr>\n",
       "      <th>4</th>\n",
       "      <td>2020-06-03 08:33:35</td>\n",
       "      <td>2020-07-13 03:09:14</td>\n",
       "      <td>-99999</td>\n",
       "      <td>Closed</td>\n",
       "      <td>954.0</td>\n",
       "    </tr>\n",
       "    <tr>\n",
       "      <th>...</th>\n",
       "      <td>...</td>\n",
       "      <td>...</td>\n",
       "      <td>...</td>\n",
       "      <td>...</td>\n",
       "      <td>...</td>\n",
       "    </tr>\n",
       "    <tr>\n",
       "      <th>1705660</th>\n",
       "      <td>2020-07-10 10:34:45</td>\n",
       "      <td>2020-08-26 12:00:00</td>\n",
       "      <td>10075</td>\n",
       "      <td>Closed</td>\n",
       "      <td>1129.0</td>\n",
       "    </tr>\n",
       "    <tr>\n",
       "      <th>1705661</th>\n",
       "      <td>2020-08-05 02:55:52</td>\n",
       "      <td>2020-08-13 06:35:49</td>\n",
       "      <td>11221</td>\n",
       "      <td>Closed</td>\n",
       "      <td>195.0</td>\n",
       "    </tr>\n",
       "    <tr>\n",
       "      <th>1705662</th>\n",
       "      <td>2020-07-11 10:53:00</td>\n",
       "      <td>2020-08-21 12:00:00</td>\n",
       "      <td>11421</td>\n",
       "      <td>Closed</td>\n",
       "      <td>985.0</td>\n",
       "    </tr>\n",
       "    <tr>\n",
       "      <th>1705663</th>\n",
       "      <td>2020-07-16 12:00:23</td>\n",
       "      <td>2020-08-30 05:59:47</td>\n",
       "      <td>11691</td>\n",
       "      <td>Closed</td>\n",
       "      <td>1073.0</td>\n",
       "    </tr>\n",
       "    <tr>\n",
       "      <th>1705664</th>\n",
       "      <td>2020-07-16 04:55:32</td>\n",
       "      <td>2020-09-05 01:28:38</td>\n",
       "      <td>11226</td>\n",
       "      <td>Closed</td>\n",
       "      <td>1220.0</td>\n",
       "    </tr>\n",
       "  </tbody>\n",
       "</table>\n",
       "<p>1705665 rows × 5 columns</p>\n",
       "</div>"
      ],
      "text/plain": [
       "                       open               close     zip  status  \\\n",
       "0       2020-07-20 10:51:12 2020-09-05 12:32:48   11234  Closed   \n",
       "1       2020-07-21 02:13:58 2020-09-05 01:37:31   11210  Closed   \n",
       "2       2020-07-27 12:56:33 2020-09-05 08:51:14   11354  Closed   \n",
       "3       2020-06-23 11:55:33 2020-08-04 04:45:20  -99999  Closed   \n",
       "4       2020-06-03 08:33:35 2020-07-13 03:09:14  -99999  Closed   \n",
       "...                     ...                 ...     ...     ...   \n",
       "1705660 2020-07-10 10:34:45 2020-08-26 12:00:00   10075  Closed   \n",
       "1705661 2020-08-05 02:55:52 2020-08-13 06:35:49   11221  Closed   \n",
       "1705662 2020-07-11 10:53:00 2020-08-21 12:00:00   11421  Closed   \n",
       "1705663 2020-07-16 12:00:23 2020-08-30 05:59:47   11691  Closed   \n",
       "1705664 2020-07-16 04:55:32 2020-09-05 01:28:38   11226  Closed   \n",
       "\n",
       "         response_time_hr  \n",
       "0                  1129.0  \n",
       "1                  1103.0  \n",
       "2                   955.0  \n",
       "3                  1000.0  \n",
       "4                   954.0  \n",
       "...                   ...  \n",
       "1705660            1129.0  \n",
       "1705661             195.0  \n",
       "1705662             985.0  \n",
       "1705663            1073.0  \n",
       "1705664            1220.0  \n",
       "\n",
       "[1705665 rows x 5 columns]"
      ]
     },
     "execution_count": 33,
     "metadata": {},
     "output_type": "execute_result"
    }
   ],
   "source": [
    "df_monthly = df.groupby('zip')['response_time_hr'].mean()"
   ]
  },
  {
   "cell_type": "code",
   "execution_count": 105,
   "metadata": {},
   "outputs": [],
   "source": [
    "def construct_df(filepath): # input the 2020_closed_nyc_311.csv\"\n",
    "    df = pd.read_csv(filepath, header=None, names=['open', 'close', 'zip', 'status'],dtype={'zip': str})\n",
    "\n",
    "    df.replace(np.nan, -99999, inplace=True) # use -99999 to denote a nan zipcode\n",
    "    df['open'] = pd.to_datetime(df['open'],format='%m/%d/%Y %H:%M:%S %p') # convert to datetime format\n",
    "    df['close'] = pd.to_datetime(df['close'],format='%m/%d/%Y %H:%M:%S %p')\n",
    "    df['response_time_hr'] = (df['close']-df['open']).astype('timedelta64[h]') \n",
    " #   df_grouped = df.groupby('zip')['response_time_hr'].mean()\n",
    "    \n",
    "    monthly_grouped = pd.DataFrame(df.groupby([pd.Grouper(key='open',freq='M'), 'zip'])['response_time_hr'].mean())\n",
    "    \n",
    "    return monthly_grouped"
   ]
  },
  {
   "cell_type": "code",
   "execution_count": 106,
   "metadata": {},
   "outputs": [],
   "source": [
    "my_df  = construct_df(\"../data/2020_closed_nyc_311.csv\")\n",
    "\n"
   ]
  },
  {
   "cell_type": "code",
   "execution_count": 96,
   "metadata": {},
   "outputs": [],
   "source": [
    "def query_zip_2(df,zipcode=None):\n",
    "    if zipcode is None:\n",
    "        return df.mean(level=0) # if a zipcode is not provided, take the mean across all the months\n",
    "    else:\n",
    "        return df.loc[(slice(None), zipcode),:] # otherwise provide it for the specified zipcode\n"
   ]
  },
  {
   "cell_type": "code",
   "execution_count": 104,
   "metadata": {
    "collapsed": true
   },
   "outputs": [
    {
     "data": {
      "text/plain": [
       "array([[194.9403794 ],\n",
       "       [262.09449761],\n",
       "       [144.32467532],\n",
       "       [ 59.20220588],\n",
       "       [ 58.26420455],\n",
       "       [ 56.97751479],\n",
       "       [ 48.5128866 ],\n",
       "       [ 51.94414608],\n",
       "       [ 20.08202654]])"
      ]
     },
     "execution_count": 104,
     "metadata": {},
     "output_type": "execute_result"
    }
   ],
   "source": [
    "query_zip_2(my_df, '10001').values"
   ]
  },
  {
   "cell_type": "code",
   "execution_count": 77,
   "metadata": {},
   "outputs": [
    {
     "data": {
      "text/plain": [
       "response_time_hr    122.060944\n",
       "dtype: float64"
      ]
     },
     "execution_count": 77,
     "metadata": {},
     "output_type": "execute_result"
    }
   ],
   "source": [
    "my_df.loc[(slice(None),slice(None)), :].mean()"
   ]
  },
  {
   "cell_type": "code",
   "execution_count": 91,
   "metadata": {
    "collapsed": true
   },
   "outputs": [
    {
     "data": {
      "text/html": [
       "<div>\n",
       "<style scoped>\n",
       "    .dataframe tbody tr th:only-of-type {\n",
       "        vertical-align: middle;\n",
       "    }\n",
       "\n",
       "    .dataframe tbody tr th {\n",
       "        vertical-align: top;\n",
       "    }\n",
       "\n",
       "    .dataframe thead th {\n",
       "        text-align: right;\n",
       "    }\n",
       "</style>\n",
       "<table border=\"1\" class=\"dataframe\">\n",
       "  <thead>\n",
       "    <tr style=\"text-align: right;\">\n",
       "      <th></th>\n",
       "      <th>response_time_hr</th>\n",
       "    </tr>\n",
       "    <tr>\n",
       "      <th>open</th>\n",
       "      <th></th>\n",
       "    </tr>\n",
       "  </thead>\n",
       "  <tbody>\n",
       "    <tr>\n",
       "      <th>2020-01-31</th>\n",
       "      <td>166.797968</td>\n",
       "    </tr>\n",
       "    <tr>\n",
       "      <th>2020-02-29</th>\n",
       "      <td>201.073062</td>\n",
       "    </tr>\n",
       "    <tr>\n",
       "      <th>2020-03-31</th>\n",
       "      <td>207.980687</td>\n",
       "    </tr>\n",
       "    <tr>\n",
       "      <th>2020-04-30</th>\n",
       "      <td>104.988027</td>\n",
       "    </tr>\n",
       "    <tr>\n",
       "      <th>2020-05-31</th>\n",
       "      <td>88.681719</td>\n",
       "    </tr>\n",
       "    <tr>\n",
       "      <th>2020-06-30</th>\n",
       "      <td>97.860572</td>\n",
       "    </tr>\n",
       "    <tr>\n",
       "      <th>2020-07-31</th>\n",
       "      <td>105.359159</td>\n",
       "    </tr>\n",
       "    <tr>\n",
       "      <th>2020-08-31</th>\n",
       "      <td>93.027204</td>\n",
       "    </tr>\n",
       "    <tr>\n",
       "      <th>2020-09-30</th>\n",
       "      <td>29.952394</td>\n",
       "    </tr>\n",
       "  </tbody>\n",
       "</table>\n",
       "</div>"
      ],
      "text/plain": [
       "            response_time_hr\n",
       "open                        \n",
       "2020-01-31        166.797968\n",
       "2020-02-29        201.073062\n",
       "2020-03-31        207.980687\n",
       "2020-04-30        104.988027\n",
       "2020-05-31         88.681719\n",
       "2020-06-30         97.860572\n",
       "2020-07-31        105.359159\n",
       "2020-08-31         93.027204\n",
       "2020-09-30         29.952394"
      ]
     },
     "execution_count": 91,
     "metadata": {},
     "output_type": "execute_result"
    }
   ],
   "source": [
    "my_df.mean(level=0)"
   ]
  },
  {
   "cell_type": "code",
   "execution_count": null,
   "metadata": {},
   "outputs": [],
   "source": []
  }
 ],
 "metadata": {
  "kernelspec": {
   "display_name": "Python 3",
   "language": "python",
   "name": "python3"
  },
  "language_info": {
   "codemirror_mode": {
    "name": "ipython",
    "version": 3
   },
   "file_extension": ".py",
   "mimetype": "text/x-python",
   "name": "python",
   "nbconvert_exporter": "python",
   "pygments_lexer": "ipython3",
   "version": "3.8.3"
  }
 },
 "nbformat": 4,
 "nbformat_minor": 4
}
